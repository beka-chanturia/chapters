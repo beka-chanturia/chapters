{
  "nbformat": 4,
  "nbformat_minor": 0,
  "metadata": {
    "colab": {
      "name": "ch7 in-class.ipynb",
      "provenance": [],
      "collapsed_sections": [],
      "authorship_tag": "ABX9TyMwHfkpEpBEkwwrpA6nNJ/F",
      "include_colab_link": true
    },
    "kernelspec": {
      "name": "python3",
      "display_name": "Python 3"
    },
    "language_info": {
      "name": "python"
    }
  },
  "cells": [
    {
      "cell_type": "markdown",
      "metadata": {
        "id": "view-in-github",
        "colab_type": "text"
      },
      "source": [
        "<a href=\"https://colab.research.google.com/github/beka-chanturia/homework/blob/main/ch7_in_class.ipynb\" target=\"_parent\"><img src=\"https://colab.research.google.com/assets/colab-badge.svg\" alt=\"Open In Colab\"/></a>"
      ]
    },
    {
      "cell_type": "markdown",
      "metadata": {
        "id": "X8yw8vq7N1de"
      },
      "source": [
        "checking for equality"
      ]
    },
    {
      "cell_type": "code",
      "metadata": {
        "id": "-n9VztjPNF73"
      },
      "source": [
        "car = 'bmw'"
      ],
      "execution_count": null,
      "outputs": []
    },
    {
      "cell_type": "code",
      "metadata": {
        "colab": {
          "base_uri": "https://localhost:8080/"
        },
        "id": "oaOZ8qMIOVW7",
        "outputId": "19ff2e0c-b00a-4840-bcf7-2c6deecfbfa5"
      },
      "source": [
        "car == 'bmw'"
      ],
      "execution_count": null,
      "outputs": [
        {
          "output_type": "execute_result",
          "data": {
            "text/plain": [
              "True"
            ]
          },
          "metadata": {},
          "execution_count": 2
        }
      ]
    },
    {
      "cell_type": "code",
      "metadata": {
        "id": "xgwUp0X2OZIU"
      },
      "source": [
        "car = 'audi'"
      ],
      "execution_count": null,
      "outputs": []
    },
    {
      "cell_type": "code",
      "metadata": {
        "colab": {
          "base_uri": "https://localhost:8080/"
        },
        "id": "16AlosRUOcxS",
        "outputId": "9a35ed95-3644-4a3e-af58-d2d94b678170"
      },
      "source": [
        "car == 'bmw'"
      ],
      "execution_count": null,
      "outputs": [
        {
          "output_type": "execute_result",
          "data": {
            "text/plain": [
              "False"
            ]
          },
          "metadata": {},
          "execution_count": 7
        }
      ]
    },
    {
      "cell_type": "code",
      "metadata": {
        "id": "kpztuy90OhX5"
      },
      "source": [
        "car = 'Audi'"
      ],
      "execution_count": null,
      "outputs": []
    },
    {
      "cell_type": "code",
      "metadata": {
        "colab": {
          "base_uri": "https://localhost:8080/"
        },
        "id": "9iqo-MwlPEk8",
        "outputId": "bd349d18-fdcc-482b-a4d8-514339177e1a"
      },
      "source": [
        "car == 'audi'"
      ],
      "execution_count": null,
      "outputs": [
        {
          "output_type": "execute_result",
          "data": {
            "text/plain": [
              "False"
            ]
          },
          "metadata": {},
          "execution_count": 16
        }
      ]
    },
    {
      "cell_type": "markdown",
      "metadata": {
        "id": "YaSnL3_LP-td"
      },
      "source": [
        "checking for inequality"
      ]
    },
    {
      "cell_type": "code",
      "metadata": {
        "id": "BGnmlG3MPORP"
      },
      "source": [
        "topping = 'mushroms'"
      ],
      "execution_count": null,
      "outputs": []
    },
    {
      "cell_type": "code",
      "metadata": {
        "colab": {
          "base_uri": "https://localhost:8080/"
        },
        "id": "UwIjIITAQKzR",
        "outputId": "8b38bf3e-f02e-455c-b6b4-4130e7a435a0"
      },
      "source": [
        "topping != 'anchovices'"
      ],
      "execution_count": null,
      "outputs": [
        {
          "output_type": "execute_result",
          "data": {
            "text/plain": [
              "True"
            ]
          },
          "metadata": {},
          "execution_count": 20
        }
      ]
    },
    {
      "cell_type": "markdown",
      "metadata": {
        "id": "x-LoDUzqQp4k"
      },
      "source": [
        "numerical comparison"
      ]
    },
    {
      "cell_type": "code",
      "metadata": {
        "id": "eknNrbM0QR9L"
      },
      "source": [
        "age = 18"
      ],
      "execution_count": null,
      "outputs": []
    },
    {
      "cell_type": "code",
      "metadata": {
        "colab": {
          "base_uri": "https://localhost:8080/"
        },
        "id": "I5boVo90Qu1F",
        "outputId": "45fe0b0c-06f7-4a21-e696-1d3d3b60689f"
      },
      "source": [
        "age == 18"
      ],
      "execution_count": null,
      "outputs": [
        {
          "output_type": "execute_result",
          "data": {
            "text/plain": [
              "True"
            ]
          },
          "metadata": {},
          "execution_count": 22
        }
      ]
    },
    {
      "cell_type": "code",
      "metadata": {
        "colab": {
          "base_uri": "https://localhost:8080/"
        },
        "id": "AtMGoZyUQwW7",
        "outputId": "73a2deca-6bba-49ff-f585-22f4059cf1aa"
      },
      "source": [
        "age != 18"
      ],
      "execution_count": null,
      "outputs": [
        {
          "output_type": "execute_result",
          "data": {
            "text/plain": [
              "False"
            ]
          },
          "metadata": {},
          "execution_count": 23
        }
      ]
    },
    {
      "cell_type": "code",
      "metadata": {
        "id": "44jjH5BrQ4kS"
      },
      "source": [
        "age = 19"
      ],
      "execution_count": null,
      "outputs": []
    },
    {
      "cell_type": "code",
      "metadata": {
        "colab": {
          "base_uri": "https://localhost:8080/"
        },
        "id": "zyI23h8IQ8PA",
        "outputId": "6ed0c9f9-ed09-47c5-952a-4a40713a9745"
      },
      "source": [
        "age < 21"
      ],
      "execution_count": null,
      "outputs": [
        {
          "output_type": "execute_result",
          "data": {
            "text/plain": [
              "True"
            ]
          },
          "metadata": {},
          "execution_count": 25
        }
      ]
    },
    {
      "cell_type": "code",
      "metadata": {
        "colab": {
          "base_uri": "https://localhost:8080/"
        },
        "id": "gKMgSTtBQ9Vi",
        "outputId": "247e2520-418d-4d50-c3a2-cacc6744cd5d"
      },
      "source": [
        "age <= 21"
      ],
      "execution_count": null,
      "outputs": [
        {
          "output_type": "execute_result",
          "data": {
            "text/plain": [
              "True"
            ]
          },
          "metadata": {},
          "execution_count": 26
        }
      ]
    },
    {
      "cell_type": "code",
      "metadata": {
        "colab": {
          "base_uri": "https://localhost:8080/"
        },
        "id": "m7DS-7MwRBpK",
        "outputId": "33419bd9-fc2b-4878-f0c8-82942917a74b"
      },
      "source": [
        "age >= 21"
      ],
      "execution_count": null,
      "outputs": [
        {
          "output_type": "execute_result",
          "data": {
            "text/plain": [
              "False"
            ]
          },
          "metadata": {},
          "execution_count": 27
        }
      ]
    },
    {
      "cell_type": "markdown",
      "metadata": {
        "id": "3dSI2Tx-RbSE"
      },
      "source": [
        "checking multiple conditions"
      ]
    },
    {
      "cell_type": "code",
      "metadata": {
        "id": "NPuEdaTYRLNr"
      },
      "source": [
        "age_0 = 22"
      ],
      "execution_count": null,
      "outputs": []
    },
    {
      "cell_type": "code",
      "metadata": {
        "id": "5362vPxQRif4"
      },
      "source": [
        "age_1 = 18"
      ],
      "execution_count": null,
      "outputs": []
    },
    {
      "cell_type": "code",
      "metadata": {
        "colab": {
          "base_uri": "https://localhost:8080/"
        },
        "id": "6XNP8Nq2RkRh",
        "outputId": "30bafdb0-cb71-4d7f-d553-49027b8c590c"
      },
      "source": [
        "age_0 >= 21 and age_1 >= 21"
      ],
      "execution_count": null,
      "outputs": [
        {
          "output_type": "execute_result",
          "data": {
            "text/plain": [
              "False"
            ]
          },
          "metadata": {},
          "execution_count": 31
        }
      ]
    },
    {
      "cell_type": "code",
      "metadata": {
        "id": "6kERS9F5RmgM"
      },
      "source": [
        "age_0 = 22"
      ],
      "execution_count": null,
      "outputs": []
    },
    {
      "cell_type": "code",
      "metadata": {
        "id": "-eu_0HKiR6ob"
      },
      "source": [
        "age_1 = 18"
      ],
      "execution_count": null,
      "outputs": []
    },
    {
      "cell_type": "code",
      "metadata": {
        "colab": {
          "base_uri": "https://localhost:8080/"
        },
        "id": "f_uOh8QpR828",
        "outputId": "c1bc19fa-fdaa-46f2-ccf2-3cfd13b93e27"
      },
      "source": [
        "age_0 >=21 or age_1 >= 21"
      ],
      "execution_count": null,
      "outputs": [
        {
          "output_type": "execute_result",
          "data": {
            "text/plain": [
              "True"
            ]
          },
          "metadata": {},
          "execution_count": 35
        }
      ]
    },
    {
      "cell_type": "markdown",
      "metadata": {
        "id": "Vdy12MuJSajM"
      },
      "source": [
        "boolean values"
      ]
    },
    {
      "cell_type": "code",
      "metadata": {
        "id": "wXgwTghmR_VG"
      },
      "source": [
        "game_active = True"
      ],
      "execution_count": null,
      "outputs": []
    },
    {
      "cell_type": "code",
      "metadata": {
        "id": "i7JX4vZISwLG"
      },
      "source": [
        "can_edit = False"
      ],
      "execution_count": null,
      "outputs": []
    },
    {
      "cell_type": "markdown",
      "metadata": {
        "id": "qWacOXUSYvKo"
      },
      "source": [
        "if statement"
      ]
    },
    {
      "cell_type": "code",
      "metadata": {
        "id": "5mXx4PBPYoI7"
      },
      "source": [
        "age = 19"
      ],
      "execution_count": null,
      "outputs": []
    },
    {
      "cell_type": "code",
      "metadata": {
        "colab": {
          "base_uri": "https://localhost:8080/"
        },
        "id": "nCk489IjYyUl",
        "outputId": "914a72ec-87c0-4d62-f26c-688956f590a0"
      },
      "source": [
        "if age >= 18:\n",
        "  print(\"you're old enough to vote\")"
      ],
      "execution_count": null,
      "outputs": [
        {
          "output_type": "stream",
          "name": "stdout",
          "text": [
            "you're old enough to vote\n"
          ]
        }
      ]
    },
    {
      "cell_type": "code",
      "metadata": {
        "id": "_0oQpFmhZE5z"
      },
      "source": [
        "age = 17"
      ],
      "execution_count": null,
      "outputs": []
    },
    {
      "cell_type": "code",
      "metadata": {
        "colab": {
          "base_uri": "https://localhost:8080/"
        },
        "id": "LHRZyPD1ZQfa",
        "outputId": "7d914ae8-0280-47bd-d1e0-dcea6790ba2a"
      },
      "source": [
        "if age >= 18:\n",
        "  print('you\\'re old enough to vote')\n",
        "else:\n",
        "  print(' you can\\'t vote yet')"
      ],
      "execution_count": null,
      "outputs": [
        {
          "output_type": "stream",
          "name": "stdout",
          "text": [
            " you can't vote yet\n"
          ]
        }
      ]
    },
    {
      "cell_type": "code",
      "metadata": {
        "id": "uiuyy31FZeYl"
      },
      "source": [
        "age = 12"
      ],
      "execution_count": null,
      "outputs": []
    },
    {
      "cell_type": "code",
      "metadata": {
        "id": "n4fi8eymc08i",
        "colab": {
          "base_uri": "https://localhost:8080/"
        },
        "outputId": "afecd895-6345-4612-836f-8b65c4613a63"
      },
      "source": [
        "if age < 12:\n",
        "  price = 0\n",
        "elif age < 18:\n",
        "  price = 5\n",
        "else:\n",
        "  price = 10\n",
        "\n",
        "price = str(price)\n",
        "print('your cost is $' + price + '.')\n"
      ],
      "execution_count": null,
      "outputs": [
        {
          "output_type": "stream",
          "name": "stdout",
          "text": [
            "your cost is $5.\n"
          ]
        }
      ]
    },
    {
      "cell_type": "markdown",
      "metadata": {
        "id": "xVpRcjIRfKKR"
      },
      "source": [
        "conditional test with list"
      ]
    },
    {
      "cell_type": "code",
      "metadata": {
        "id": "u-wEECeydwcH"
      },
      "source": [
        "players =['al' , 'bea' , 'cyn' , 'dale']"
      ],
      "execution_count": null,
      "outputs": []
    },
    {
      "cell_type": "code",
      "metadata": {
        "colab": {
          "base_uri": "https://localhost:8080/"
        },
        "id": "E1KvyWiCfaFZ",
        "outputId": "3790c483-c6eb-44e7-a497-038194b2a567"
      },
      "source": [
        "'al' in players"
      ],
      "execution_count": null,
      "outputs": [
        {
          "output_type": "execute_result",
          "data": {
            "text/plain": [
              "True"
            ]
          },
          "metadata": {},
          "execution_count": 67
        }
      ]
    },
    {
      "cell_type": "code",
      "metadata": {
        "colab": {
          "base_uri": "https://localhost:8080/"
        },
        "id": "FA6VQNyzfdj7",
        "outputId": "1da516a5-04f7-45ea-d979-723e6dfd9f04"
      },
      "source": [
        "'eric' in players"
      ],
      "execution_count": null,
      "outputs": [
        {
          "output_type": "execute_result",
          "data": {
            "text/plain": [
              "False"
            ]
          },
          "metadata": {},
          "execution_count": 69
        }
      ]
    },
    {
      "cell_type": "code",
      "metadata": {
        "id": "e2AJo3iPfiNO"
      },
      "source": [
        "banned_users = ['ann' , 'chad' , 'dee']"
      ],
      "execution_count": null,
      "outputs": []
    },
    {
      "cell_type": "code",
      "metadata": {
        "id": "lOdfmB6fgtR6"
      },
      "source": [
        "user = 'erin'"
      ],
      "execution_count": null,
      "outputs": []
    },
    {
      "cell_type": "code",
      "metadata": {
        "colab": {
          "base_uri": "https://localhost:8080/"
        },
        "id": "IbfB9oOggw9B",
        "outputId": "2cac36af-9991-4ce3-c440-a27a26cd1166"
      },
      "source": [
        "banned_users = ['ann', 'chad', 'dee']\n",
        "user = 'erin'\n",
        "\n",
        "if user not in banned_users:\n",
        " print(\"You can play!\")\n"
      ],
      "execution_count": null,
      "outputs": [
        {
          "output_type": "stream",
          "name": "stdout",
          "text": [
            "You can play!\n"
          ]
        }
      ]
    },
    {
      "cell_type": "code",
      "metadata": {
        "id": "mqvK-t3Gg5d4"
      },
      "source": [
        "players = []"
      ],
      "execution_count": null,
      "outputs": []
    },
    {
      "cell_type": "code",
      "metadata": {
        "colab": {
          "base_uri": "https://localhost:8080/"
        },
        "id": "0cmi9AEGhsjo",
        "outputId": "6aa43f59-bcc3-4c9c-c87f-ea0b059c05a0"
      },
      "source": [
        "if players:\n",
        "  for player in players:\n",
        "    print('player: ' + player.title())\n",
        "else:\n",
        "  print('we have no players yet')"
      ],
      "execution_count": null,
      "outputs": [
        {
          "output_type": "stream",
          "name": "stdout",
          "text": [
            "we have no players yet\n"
          ]
        }
      ]
    },
    {
      "cell_type": "markdown",
      "metadata": {
        "id": "-qjkw9ZCkfGg"
      },
      "source": [
        "accepting input"
      ]
    },
    {
      "cell_type": "code",
      "metadata": {
        "colab": {
          "base_uri": "https://localhost:8080/",
          "height": 53
        },
        "id": "ZLMoXcrvi5nt",
        "outputId": "06d4aefe-15ef-431b-d379-e9a83dc397c1"
      },
      "source": [
        "name = input('What\\'s your name? ')\n",
        "'hello, ' + name.title() + '.'"
      ],
      "execution_count": null,
      "outputs": [
        {
          "name": "stdout",
          "output_type": "stream",
          "text": [
            "What's your name? giorgi\n"
          ]
        },
        {
          "output_type": "execute_result",
          "data": {
            "application/vnd.google.colaboratory.intrinsic+json": {
              "type": "string"
            },
            "text/plain": [
              "'hello, Giorgi.'"
            ]
          },
          "metadata": {},
          "execution_count": 13
        }
      ]
    },
    {
      "cell_type": "markdown",
      "metadata": {
        "id": "3caborvmTmlH"
      },
      "source": [
        "ages and voting"
      ]
    },
    {
      "cell_type": "code",
      "metadata": {
        "colab": {
          "base_uri": "https://localhost:8080/"
        },
        "id": "r-nj7SqAlNBn",
        "outputId": "3fe0d3a6-5e8f-456b-8b94-991b3a71ca42"
      },
      "source": [
        "age = input('how old are you? >>>')"
      ],
      "execution_count": 6,
      "outputs": [
        {
          "name": "stdout",
          "output_type": "stream",
          "text": [
            "how old are you? >>>18\n"
          ]
        }
      ]
    },
    {
      "cell_type": "code",
      "metadata": {
        "id": "cJNvyP9Rmy6E"
      },
      "source": [
        "age = int(age)"
      ],
      "execution_count": 7,
      "outputs": []
    },
    {
      "cell_type": "code",
      "metadata": {
        "colab": {
          "base_uri": "https://localhost:8080/"
        },
        "id": "oO1W7PR-m0vD",
        "outputId": "c1500bc8-28c2-46ed-aae6-feb1d37cdef5"
      },
      "source": [
        "if age >= 18:\n",
        "  print('\\nyou\\'re old enough to vote')\n",
        "else:\n",
        "  print('\\nyou can\\'t vote yet.')"
      ],
      "execution_count": 8,
      "outputs": [
        {
          "output_type": "stream",
          "name": "stdout",
          "text": [
            "\n",
            "you're old enough to vote\n"
          ]
        }
      ]
    },
    {
      "cell_type": "markdown",
      "metadata": {
        "id": "LsK1L2MS-Fwj"
      },
      "source": [
        "while loop"
      ]
    },
    {
      "cell_type": "code",
      "metadata": {
        "id": "dcA_ToqAnSsJ",
        "colab": {
          "base_uri": "https://localhost:8080/"
        },
        "outputId": "b9de4a10-ec0a-4239-ed2b-8991029c5be9"
      },
      "source": [
        "current_number = 1\n",
        "\n",
        "while current_number <= 5:\n",
        "  print(current_number)\n",
        "  \n",
        "  current_number += 1\n",
        "  #current_number = current_number + 1\n",
        "\n",
        "# ბოლო ორი ხაზი ერთი და იგივეა იგივენაირ აუთფუთს გვაძლევს"
      ],
      "execution_count": null,
      "outputs": [
        {
          "output_type": "stream",
          "name": "stdout",
          "text": [
            "1\n",
            "2\n",
            "3\n",
            "4\n",
            "5\n"
          ]
        }
      ]
    },
    {
      "cell_type": "code",
      "metadata": {
        "colab": {
          "base_uri": "https://localhost:8080/"
        },
        "id": "ULrtxWno-UiW",
        "outputId": "55ae63bb-d9c7-47c8-bc4c-274b851f1408"
      },
      "source": [
        "prompt = '\\nTell me somethong, and i will'\n",
        "\n",
        "#prompt += ' repeat it back to you' ეს ორი ხაზი ერთ აუთფუთს გვაძლევს,კოდის წერა შეგვიძლია სხვადასხვანაირად\n",
        "prompt = prompt + ' repeat it back to you.'\n",
        "prompt += '\\nEnter \"quit\" to end program.'\n",
        "\n",
        "message = ''\n",
        "while message != 'quit':\n",
        "  message = input(prompt)\n",
        "\n",
        "  if message != 'quit':\n",
        "    print(message)\n"
      ],
      "execution_count": 13,
      "outputs": [
        {
          "name": "stdout",
          "output_type": "stream",
          "text": [
            "\n",
            "Tell me somethong, and i will repeat it back to you.\n",
            "Enter \"quit\" to end program.ball\n",
            "ball\n",
            "\n",
            "Tell me somethong, and i will repeat it back to you.\n",
            "Enter \"quit\" to end program.home\n",
            "home\n",
            "\n",
            "Tell me somethong, and i will repeat it back to you.\n",
            "Enter \"quit\" to end program.quit\n"
          ]
        }
      ]
    },
    {
      "cell_type": "code",
      "metadata": {
        "id": "wQKSFQqLNSgb",
        "colab": {
          "base_uri": "https://localhost:8080/"
        },
        "outputId": "07d957ba-9f34-4b93-d970-d20c6463b163"
      },
      "source": [
        "prompt = '\\nTell me somethong, and i will'\n",
        "prompt = prompt + ' repeat it back to you.'\n",
        "prompt += '\\nEnter \"quit\" to end program.'\n",
        "\n",
        "active = True\n",
        "while active:\n",
        "  message = input(prompt)\n",
        "\n",
        "  if message == 'quit':\n",
        "    active = False\n",
        "  \n",
        "  else:\n",
        "    print(message)"
      ],
      "execution_count": 16,
      "outputs": [
        {
          "name": "stdout",
          "output_type": "stream",
          "text": [
            "\n",
            "Tell me somethong, and i will repeat it back to you.\n",
            "Enter \"quit\" to end program.hello \n",
            "hello \n",
            "\n",
            "Tell me somethong, and i will repeat it back to you.\n",
            "Enter \"quit\" to end program.hello world\n",
            "hello world\n",
            "\n",
            "Tell me somethong, and i will repeat it back to you.\n",
            "Enter \"quit\" to end program.quit\n"
          ]
        }
      ]
    },
    {
      "cell_type": "markdown",
      "metadata": {
        "id": "xahjLbp6ZrKy"
      },
      "source": [
        "using brake to exit a loop"
      ]
    },
    {
      "cell_type": "code",
      "metadata": {
        "colab": {
          "base_uri": "https://localhost:8080/"
        },
        "id": "CDgIfnWoYTiA",
        "outputId": "98a6bf95-4201-48e5-ce1e-d4bced69059a"
      },
      "source": [
        "prompt = '\\nwhat cities have you visited'\n",
        "prompt += '\\nenter quit when you done '\n",
        "\n",
        "while True:\n",
        "  city = input(prompt)\n",
        "\n",
        "  if city == 'quit':\n",
        "    break\n",
        "  \n",
        "  else:\n",
        "    print('I\\'ve been to ' + city + '!')"
      ],
      "execution_count": 23,
      "outputs": [
        {
          "name": "stdout",
          "output_type": "stream",
          "text": [
            "\n",
            "what cities have you visited\n",
            "enter quit when you done tbilisi\n",
            "I've been to tbilisi!\n",
            "\n",
            "what cities have you visited\n",
            "enter quit when you done NY\n",
            "I've been to NY!\n",
            "\n",
            "what cities have you visited\n",
            "enter quit when you done quit\n"
          ]
        }
      ]
    },
    {
      "cell_type": "markdown",
      "metadata": {
        "id": "K3PdT2vMhcva"
      },
      "source": [
        "using continue in a loop"
      ]
    },
    {
      "cell_type": "code",
      "metadata": {
        "colab": {
          "base_uri": "https://localhost:8080/"
        },
        "id": "WEDRMsiIaPHh",
        "outputId": "3ce48626-5849-4dfc-eaa8-33d5fb1aa97e"
      },
      "source": [
        "banned_users = ['eve' , 'fred' , 'gary' , 'helen']\n",
        "\n",
        "prompt = '\\nadd a player to your team'\n",
        "prompt += '\\nenter \"quit\" when you\\'re done. '\n",
        "\n",
        "players = []\n",
        "while True:\n",
        "  player =input(prompt)\n",
        "  \n",
        "  if player == 'quit':\n",
        "    break\n",
        "  \n",
        "  elif player in banned_users:\n",
        "    print(player + ' is banned!')\n",
        "    continue\n",
        "\n",
        "  else:\n",
        "    players.append(player)\n",
        "\n",
        "print('\\nyour team:')\n",
        "for player in players:\n",
        "  print(player)\n"
      ],
      "execution_count": 35,
      "outputs": [
        {
          "output_type": "stream",
          "name": "stdout",
          "text": [
            "\n",
            "add a player to your team\n",
            "enter \"quit\" when you're done. george\n",
            "\n",
            "add a player to your team\n",
            "enter \"quit\" when you're done. eve\n",
            "eve is banned!\n",
            "\n",
            "add a player to your team\n",
            "enter \"quit\" when you're done. gary\n",
            "gary is banned!\n",
            "\n",
            "add a player to your team\n",
            "enter \"quit\" when you're done. anna\n",
            "\n",
            "add a player to your team\n",
            "enter \"quit\" when you're done. quit\n",
            "\n",
            "your team:\n",
            "george\n",
            "anna\n"
          ]
        }
      ]
    },
    {
      "cell_type": "code",
      "metadata": {
        "id": "iNwHkaFniavz"
      },
      "source": [
        ""
      ],
      "execution_count": null,
      "outputs": []
    }
  ]
}
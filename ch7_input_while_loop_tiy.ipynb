{
  "nbformat": 4,
  "nbformat_minor": 0,
  "metadata": {
    "colab": {
      "name": "ch7_input_while_loop_tiy.ipynb",
      "provenance": [],
      "authorship_tag": "ABX9TyNwuMwT30mZ0pop/MzcHVPh",
      "include_colab_link": true
    },
    "kernelspec": {
      "name": "python3",
      "display_name": "Python 3"
    },
    "language_info": {
      "name": "python"
    }
  },
  "cells": [
    {
      "cell_type": "markdown",
      "metadata": {
        "id": "view-in-github",
        "colab_type": "text"
      },
      "source": [
        "<a href=\"https://colab.research.google.com/github/beka-chanturia/homework/blob/main/ch7_input_while_loop_tiy.ipynb\" target=\"_parent\"><img src=\"https://colab.research.google.com/assets/colab-badge.svg\" alt=\"Open In Colab\"/></a>"
      ]
    },
    {
      "cell_type": "markdown",
      "metadata": {
        "id": "j0vcioRTZHfE"
      },
      "source": [
        "7-1 rental car"
      ]
    },
    {
      "cell_type": "code",
      "metadata": {
        "colab": {
          "base_uri": "https://localhost:8080/"
        },
        "id": "x5e1e5dLYUcW",
        "outputId": "cfa9c9bc-b53c-4502-83a0-96e09117d4e2"
      },
      "source": [
        "car = input(\"What kind of car would you like? \")\n",
        "\n",
        "print(\"Let me see if I can find you a \" + car.upper() + \".\")"
      ],
      "execution_count": null,
      "outputs": [
        {
          "output_type": "stream",
          "name": "stdout",
          "text": [
            "What kind of car would you like? bmw\n",
            "Let me see if I can find you a BMW.\n"
          ]
        }
      ]
    },
    {
      "cell_type": "markdown",
      "metadata": {
        "id": "QJEwNOBCZOgq"
      },
      "source": [
        "7-2 restorant seats"
      ]
    },
    {
      "cell_type": "code",
      "metadata": {
        "id": "sMigCMjHY3w7",
        "colab": {
          "base_uri": "https://localhost:8080/"
        },
        "outputId": "a5fd4a6a-fcaf-4671-c527-b7a9984037df"
      },
      "source": [
        "party = input(\"How many people are in your party tonight? \")\n",
        "party = int(party)\n",
        "\n",
        "if party > 8:\n",
        "    print(\"I'm sorry, you will have to wait for a table.\")\n",
        "else:\n",
        "    print(\"Your table is ready.\")"
      ],
      "execution_count": null,
      "outputs": [
        {
          "output_type": "stream",
          "name": "stdout",
          "text": [
            "How many people are in your party tonight? 25\n",
            "I'm sorry, you will have to wait for a table.\n"
          ]
        }
      ]
    },
    {
      "cell_type": "markdown",
      "metadata": {
        "id": "Jk7MW9VtewsA"
      },
      "source": [
        "7-3 multiples of ten"
      ]
    },
    {
      "cell_type": "code",
      "metadata": {
        "colab": {
          "base_uri": "https://localhost:8080/"
        },
        "id": "6jclSX7YdUcP",
        "outputId": "3fd067ad-b633-4878-a76e-ad4b326c8667"
      },
      "source": [
        "number = input(\"Give me a number, please: \")\n",
        "number = int(number)\n",
        "\n",
        "if number % 10 == 0:\n",
        "    print(str(number) + \" is a multiple of 10.\")\n",
        "else:\n",
        "    print(str(number) + \" is not a multiple of 10.\")"
      ],
      "execution_count": null,
      "outputs": [
        {
          "output_type": "stream",
          "name": "stdout",
          "text": [
            "Give me a number, please: 90\n",
            "90 is a multiple of 10.\n"
          ]
        }
      ]
    },
    {
      "cell_type": "markdown",
      "metadata": {
        "id": "WUGGf6uffaFx"
      },
      "source": [
        "7-4 pizza toppings"
      ]
    },
    {
      "cell_type": "code",
      "metadata": {
        "colab": {
          "base_uri": "https://localhost:8080/"
        },
        "id": "UxXaWZeqe2vU",
        "outputId": "f0b18bb0-4529-4489-e77a-b960c19b0d08"
      },
      "source": [
        "prompt = \"\\nWhat topping would you like on your pizza?\"\n",
        "prompt += \"\\nEnter 'quit' when you are finished: \"\n",
        "\n",
        "while True:\n",
        "    topping = input(prompt)\n",
        "    if topping != 'quit':\n",
        "        print(\"  I'll add \" + topping + \" to your pizza.\")\n",
        "    else:\n",
        "        break"
      ],
      "execution_count": null,
      "outputs": [
        {
          "name": "stdout",
          "output_type": "stream",
          "text": [
            "\n",
            "What topping would you like on your pizza?\n",
            "Enter 'quit' when you are finished: pepperoni\n",
            "  I'll add pepperoni to your pizza.\n",
            "\n",
            "What topping would you like on your pizza?\n",
            "Enter 'quit' when you are finished: meat\n",
            "  I'll add meat to your pizza.\n",
            "\n",
            "What topping would you like on your pizza?\n",
            "Enter 'quit' when you are finished: quit\n"
          ]
        }
      ]
    },
    {
      "cell_type": "markdown",
      "metadata": {
        "id": "1DWysdQZgFRe"
      },
      "source": [
        "7-5 movie tickets"
      ]
    },
    {
      "cell_type": "code",
      "metadata": {
        "colab": {
          "base_uri": "https://localhost:8080/"
        },
        "id": "roOomRPVfgBH",
        "outputId": "5adccae1-bed3-4c21-ddb8-680a7377dbbc"
      },
      "source": [
        "prompt = \"How old are you?\"\n",
        "prompt += \"\\nEnter 'quit' when you are finished. \"\n",
        "\n",
        "while True:\n",
        "    age = input(prompt)\n",
        "    if age == 'quit':\n",
        "        break\n",
        "    age = int(age)\n",
        "\n",
        "    if age < 3:\n",
        "        print(\"  You get in free!\")\n",
        "    elif age < 13:\n",
        "        print(\"  Your ticket is $10.\")\n",
        "    else:\n",
        "        print(\"  Your ticket is $15.\")"
      ],
      "execution_count": null,
      "outputs": [
        {
          "name": "stdout",
          "output_type": "stream",
          "text": [
            "How old are you?\n",
            "Enter 'quit' when you are finished. 2\n",
            "  You get in free!\n",
            "How old are you?\n",
            "Enter 'quit' when you are finished. 5\n",
            "  Your ticket is $10.\n",
            "How old are you?\n",
            "Enter 'quit' when you are finished. 18\n",
            "  Your ticket is $15.\n",
            "How old are you?\n",
            "Enter 'quit' when you are finished. quit\n"
          ]
        }
      ]
    },
    {
      "cell_type": "markdown",
      "metadata": {
        "id": "CSsjaC76ggTt"
      },
      "source": [
        "7-6 three exits"
      ]
    },
    {
      "cell_type": "code",
      "metadata": {
        "id": "uovb_CnygPQI"
      },
      "source": [
        ""
      ],
      "execution_count": null,
      "outputs": []
    },
    {
      "cell_type": "markdown",
      "metadata": {
        "id": "twNARLg8gwVH"
      },
      "source": [
        "7-7 infinity"
      ]
    },
    {
      "cell_type": "code",
      "metadata": {
        "id": "iWS1dQVegz1b"
      },
      "source": [
        ""
      ],
      "execution_count": null,
      "outputs": []
    },
    {
      "cell_type": "markdown",
      "metadata": {
        "id": "1BkqgzluhTk-"
      },
      "source": [
        "7-8 deli"
      ]
    },
    {
      "cell_type": "code",
      "metadata": {
        "colab": {
          "base_uri": "https://localhost:8080/"
        },
        "id": "-id-n-_ShWAn",
        "outputId": "ba5624bd-2a68-48cb-8656-e53ce26f388b"
      },
      "source": [
        "sandwich_orders = ['vegetarian' , 'grilled cheese' , 'grilled meat' , 'roast beef']\n",
        "finished_sandwiches = []\n",
        "\n",
        "while sandwich_orders:\n",
        "    current_sandwich = sandwich_orders.pop()\n",
        "    print(\"we're working on your \" + current_sandwich + \" sandwich.\")\n",
        "    finished_sandwiches.append(current_sandwich)\n",
        "\n",
        "print(\"\\n\")\n",
        "for sandwich in finished_sandwiches:\n",
        "    print(\"we made a \" + sandwich + \" sandwich.\")"
      ],
      "execution_count": null,
      "outputs": [
        {
          "output_type": "stream",
          "name": "stdout",
          "text": [
            "we're working on your roast beef sandwich.\n",
            "we're working on your grilled meat sandwich.\n",
            "we're working on your grilled cheese sandwich.\n",
            "we're working on your vegetarian sandwich.\n",
            "\n",
            "\n",
            "we made a roast beef sandwich.\n",
            "we made a grilled meat sandwich.\n",
            "we made a grilled cheese sandwich.\n",
            "we made a vegetarian sandwich.\n"
          ]
        }
      ]
    },
    {
      "cell_type": "markdown",
      "metadata": {
        "id": "mt9xAeMhiiQ2"
      },
      "source": [
        "7-9 no pastrami"
      ]
    },
    {
      "cell_type": "code",
      "metadata": {
        "colab": {
          "base_uri": "https://localhost:8080/"
        },
        "id": "Uon5AJnThtH1",
        "outputId": "160b1e33-5fa6-4a81-dbd8-26cce84dbcc4"
      },
      "source": [
        "sandwich_orders = [\n",
        "    'pastrami' , 'vegetarian' , 'grilled cheese' , 'pastrami' ,\n",
        "    'turkey' , 'roast beef' , 'pastrami']\n",
        "finished_sandwiches = []\n",
        "\n",
        "print(\"I'm sorry, we're all out of pastrami today.\")\n",
        "while 'pastrami' in sandwich_orders:\n",
        "    sandwich_orders.remove('pastrami')\n",
        "\n",
        "print(\"\\n\")\n",
        "while sandwich_orders:\n",
        "    current_sandwich = sandwich_orders.pop()\n",
        "    print(\"we're working on your \" + current_sandwich + \" sandwich.\")\n",
        "    finished_sandwiches.append(current_sandwich)\n",
        "\n",
        "print(\"\\n\")\n",
        "for sandwich in finished_sandwiches:\n",
        "    print(\"we made a \" + sandwich + \" sandwich.\")"
      ],
      "execution_count": null,
      "outputs": [
        {
          "output_type": "stream",
          "name": "stdout",
          "text": [
            "I'm sorry, we're all out of pastrami today.\n",
            "\n",
            "\n",
            "we're working on your roast beef sandwich.\n",
            "we're working on your turkey sandwich.\n",
            "we're working on your grilled cheese sandwich.\n",
            "we're working on your vegetarian sandwich.\n",
            "\n",
            "\n",
            "we made a roast beef sandwich.\n",
            "we made a turkey sandwich.\n",
            "we made a grilled cheese sandwich.\n",
            "we made a vegetarian sandwich.\n"
          ]
        }
      ]
    },
    {
      "cell_type": "markdown",
      "metadata": {
        "id": "DuSK2wEZjNfg"
      },
      "source": [
        "7-10 dream vacation"
      ]
    },
    {
      "cell_type": "code",
      "metadata": {
        "colab": {
          "base_uri": "https://localhost:8080/"
        },
        "id": "89GI9Jvkiq6S",
        "outputId": "ffaa6601-7d6f-435c-c405-75f110bcc77e"
      },
      "source": [
        "name_prompt = \"\\nWhat's your name? \"\n",
        "place_prompt = \"If you could visit one place in the world, where would it be? \"\n",
        "continue_prompt = \"\\nWould you like to let someone else respond? (yes/no) \"\n",
        "\n",
        "# Responses will be stored in the form {name: place}.\n",
        "responses = {}\n",
        "\n",
        "while True:\n",
        "    # Ask the user where they'd like to go.\n",
        "    name = input(name_prompt)\n",
        "    place = input(place_prompt)\n",
        "\n",
        "    # Store the response.\n",
        "    responses[name] = place\n",
        "\n",
        "    # Ask if there's anyone else responding.\n",
        "    repeat = input(continue_prompt)\n",
        "    if repeat != 'yes':\n",
        "        break\n",
        "\n",
        "# Show results of the survey.\n",
        "print(\"\\n--- Results ---\")\n",
        "for name, place in responses.items():\n",
        "    print(name + \" would like to visit \" + place + \".\")"
      ],
      "execution_count": null,
      "outputs": [
        {
          "output_type": "stream",
          "name": "stdout",
          "text": [
            "\n",
            "What's your name? ben\n",
            "If you could visit one place in the world, where would it be? london\n",
            "\n",
            "Would you like to let someone else respond? (yes/no) yes\n",
            "\n",
            "What's your name? george\n",
            "If you could visit one place in the world, where would it be? tbilisi\n",
            "\n",
            "Would you like to let someone else respond? (yes/no) yes\n",
            "\n",
            "What's your name? alice\n",
            "If you could visit one place in the world, where would it be? new-york\n",
            "\n",
            "Would you like to let someone else respond? (yes/no) no\n",
            "\n",
            "--- Results ---\n",
            "ben would like to visit london.\n",
            "george would like to visit tbilisi.\n",
            "alice would like to visit new-york.\n"
          ]
        }
      ]
    },
    {
      "cell_type": "code",
      "metadata": {
        "id": "bEoNerd1jgXQ"
      },
      "source": [
        ""
      ],
      "execution_count": null,
      "outputs": []
    }
  ]
}
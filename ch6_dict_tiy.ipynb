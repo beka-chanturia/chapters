{
  "nbformat": 4,
  "nbformat_minor": 0,
  "metadata": {
    "colab": {
      "name": "ch6-dict-tiy.ipynb",
      "provenance": [],
      "authorship_tag": "ABX9TyPugzDwzDRq75dH0x2/FOXV",
      "include_colab_link": true
    },
    "kernelspec": {
      "name": "python3",
      "display_name": "Python 3"
    },
    "language_info": {
      "name": "python"
    }
  },
  "cells": [
    {
      "cell_type": "markdown",
      "metadata": {
        "id": "view-in-github",
        "colab_type": "text"
      },
      "source": [
        "<a href=\"https://colab.research.google.com/github/beka-chanturia/homework/blob/main/ch6_dict_tiy.ipynb\" target=\"_parent\"><img src=\"https://colab.research.google.com/assets/colab-badge.svg\" alt=\"Open In Colab\"/></a>"
      ]
    },
    {
      "cell_type": "markdown",
      "metadata": {
        "id": "5ZcZvhDtACsD"
      },
      "source": [
        "person"
      ]
    },
    {
      "cell_type": "code",
      "metadata": {
        "colab": {
          "base_uri": "https://localhost:8080/"
        },
        "id": "MIDWtBNk8g74",
        "outputId": "82489c5d-99d0-4717-ec44-4dd5eac9662f"
      },
      "source": [
        "person = {\n",
        "      'first_name' : 'leo',\n",
        "      'last_name' : 'messi',\n",
        "      'age' : 34,\n",
        "      'city' : 'paris',\n",
        "}\n",
        "\n",
        "first_name = person['first_name']\n",
        "last_name = person['last_name']\n",
        "age = person['age']\n",
        "city = person['city']\n",
        "\n",
        "print(first_name)\n",
        "print(last_name)\n",
        "print(age)\n",
        "print(city)"
      ],
      "execution_count": null,
      "outputs": [
        {
          "output_type": "stream",
          "name": "stdout",
          "text": [
            "leo\n",
            "messi\n",
            "34\n",
            "paris\n"
          ]
        }
      ]
    },
    {
      "cell_type": "markdown",
      "metadata": {
        "id": "rnYzkv-QAJX0"
      },
      "source": [
        "favorite numbers"
      ]
    },
    {
      "cell_type": "code",
      "metadata": {
        "colab": {
          "base_uri": "https://localhost:8080/"
        },
        "id": "gZua0CWx-PLx",
        "outputId": "c1322e1d-b56b-4af5-9d61-39b6f86677e7"
      },
      "source": [
        "favorite_numbers = {\n",
        "    'jack' : 29,\n",
        "    'peter' : 15,\n",
        "    'george' : 8,\n",
        "    'david' : 44,\n",
        "    'max' : 33,\n",
        "}\n",
        "\n",
        "for all_names in favorite_numbers.keys():\n",
        "  print(all_names)\n",
        "\n",
        "print('\\n')\n",
        "\n",
        "for fav_nums in favorite_numbers.values():\n",
        "  print(fav_nums)"
      ],
      "execution_count": null,
      "outputs": [
        {
          "output_type": "stream",
          "name": "stdout",
          "text": [
            "jack\n",
            "peter\n",
            "george\n",
            "david\n",
            "max\n",
            "\n",
            "\n",
            "29\n",
            "15\n",
            "8\n",
            "44\n",
            "33\n"
          ]
        }
      ]
    },
    {
      "cell_type": "markdown",
      "metadata": {
        "id": "F50AGeoxDlsq"
      },
      "source": [
        "glossary"
      ]
    },
    {
      "cell_type": "code",
      "metadata": {
        "id": "jMPaShVXBqyj",
        "colab": {
          "base_uri": "https://localhost:8080/"
        },
        "outputId": "805c895f-6d02-4580-facf-4fd7c182029a"
      },
      "source": [
        "glossary = {\n",
        "    'java' : 'java_codding',\n",
        "    'c' : 'c_codding',\n",
        "    'python' : 'python_codding',\n",
        "    'ruby' : 'ruby_codding',\n",
        "    'c++' : 'c++_coddding',\n",
        "}\n",
        "\n",
        "for words , meanings in glossary.items():\n",
        "  print(words + ' : ' + meanings)"
      ],
      "execution_count": null,
      "outputs": [
        {
          "output_type": "stream",
          "name": "stdout",
          "text": [
            "java : java_codding\n",
            "c : c_codding\n",
            "python : python_codding\n",
            "ruby : ruby_codding\n",
            "c++ : c++_coddding\n"
          ]
        }
      ]
    },
    {
      "cell_type": "markdown",
      "metadata": {
        "id": "Jr_ZqEE7rTNw"
      },
      "source": [
        "rivers"
      ]
    },
    {
      "cell_type": "code",
      "metadata": {
        "id": "ugyfc3pfkk9a",
        "colab": {
          "base_uri": "https://localhost:8080/"
        },
        "outputId": "cc8904db-a38a-4b47-9011-a5b21d89ab57"
      },
      "source": [
        "rivers = {\n",
        "    'mississippi' : 'USA',\n",
        "    'rioni' : 'GEO',\n",
        "    'colorado' : 'USA',\n",
        "}\n",
        "\n",
        "for river, country in rivers.items():\n",
        "  print('the' + river + 'runs through' + country)\n",
        "  print(river)\n",
        "  print(country)"
      ],
      "execution_count": 1,
      "outputs": [
        {
          "output_type": "stream",
          "name": "stdout",
          "text": [
            "themississippiruns throughUSA\n",
            "mississippi\n",
            "USA\n",
            "therioniruns throughGEO\n",
            "rioni\n",
            "GEO\n",
            "thecoloradoruns throughUSA\n",
            "colorado\n",
            "USA\n"
          ]
        }
      ]
    },
    {
      "cell_type": "code",
      "metadata": {
        "colab": {
          "base_uri": "https://localhost:8080/"
        },
        "id": "U7TCyHmEsr5k",
        "outputId": "b06f1a74-474d-4e5e-8579-105456b0527f"
      },
      "source": [
        "favorite_languages = {\n",
        "    'connor' : 'c',\n",
        "    'kara' : 'python',\n",
        "    'marcus' : 'ruby',\n",
        "    'hank' : 'c',\n",
        "}\n",
        "\n",
        "for name in favorite_languages.keys():\n",
        "  print(name.title())\n",
        "\n",
        "new_people = {\n",
        "    'maria' : 'python',\n",
        "    'david' : 'c++',\n",
        "    'george' : 'java',\n",
        "    'max' : 'ruby',\n",
        "    'sergio' : 'python',\n",
        "}\n",
        "\n",
        "for name in favorite_languages.keys():\n",
        "  print(name.title() + ', thank you for taking the pole.')\n",
        "\n",
        "for new_person in new_people:\n",
        "    if new_person in favorite_languages:\n",
        "        print(new_person + ', thank you for responding.')\n",
        "    else:\n",
        "      print(new_person + ', we invite you to take poll.')"
      ],
      "execution_count": 8,
      "outputs": [
        {
          "output_type": "stream",
          "name": "stdout",
          "text": [
            "Connor\n",
            "Kara\n",
            "Marcus\n",
            "Hank\n",
            "Connor, thank you for taking the pole.\n",
            "Kara, thank you for taking the pole.\n",
            "Marcus, thank you for taking the pole.\n",
            "Hank, thank you for taking the pole.\n",
            "maria, we invite you to take poll.\n",
            "david, we invite you to take poll.\n",
            "george, we invite you to take poll.\n",
            "max, we invite you to take poll.\n",
            "sergio, we invite you to take poll.\n"
          ]
        }
      ]
    },
    {
      "cell_type": "markdown",
      "metadata": {
        "id": "HwB71GWzy4NZ"
      },
      "source": [
        "pets"
      ]
    },
    {
      "cell_type": "code",
      "metadata": {
        "colab": {
          "base_uri": "https://localhost:8080/"
        },
        "id": "eSSNV3ZMyIU6",
        "outputId": "c15273da-9a5f-4065-aa83-42e8c38b81f7"
      },
      "source": [
        "pets = {\n",
        "    'max' : {\n",
        "        'animal' : 'dog',\n",
        "        'owner' : 'ben',\n",
        "    },\n",
        "\n",
        "    'kimi' : {\n",
        "        'animal' : 'cat',\n",
        "        'owner' : 'david'\n",
        "    },\n",
        "}\n",
        "\n",
        "print(pets)"
      ],
      "execution_count": 9,
      "outputs": [
        {
          "output_type": "stream",
          "name": "stdout",
          "text": [
            "{'max': {'animal': 'dog', 'owner': 'ben'}, 'kimi': {'animal': 'cat', 'owner': 'david'}}\n"
          ]
        }
      ]
    },
    {
      "cell_type": "markdown",
      "metadata": {
        "id": "TJOQ-nVK0KFE"
      },
      "source": [
        "favorite places"
      ]
    },
    {
      "cell_type": "code",
      "metadata": {
        "colab": {
          "base_uri": "https://localhost:8080/"
        },
        "id": "Sa7AYut3z-Qe",
        "outputId": "1a05d106-7975-4145-dcc7-f3e526caf12d"
      },
      "source": [
        "favorite_places = {\n",
        "    'max' : ['monaco' , 'miami'],\n",
        "    'sergio' : ['texas' , 'buenos aires' , 'with friends'],\n",
        "    'george' : ['with sergio'],\n",
        "}\n",
        "\n",
        "for name, places in favorite_places.items():\n",
        "  print(name + ' : ')\n",
        "  for place in places:\n",
        "    print(' - ' + place)"
      ],
      "execution_count": 14,
      "outputs": [
        {
          "output_type": "stream",
          "name": "stdout",
          "text": [
            "max : \n",
            " - monaco\n",
            " - miami\n",
            "sergio : \n",
            " - texas\n",
            " - buenos aires\n",
            " - with friends\n",
            "george : \n",
            " - with sergio\n"
          ]
        }
      ]
    },
    {
      "cell_type": "markdown",
      "metadata": {
        "id": "rY7IRiuj4O-e"
      },
      "source": [
        "cities"
      ]
    },
    {
      "cell_type": "code",
      "metadata": {
        "colab": {
          "base_uri": "https://localhost:8080/"
        },
        "id": "Izql-Hjh3lla",
        "outputId": "fe70a7c6-4b1b-4d23-853b-6d91117175d3"
      },
      "source": [
        "cities = {\n",
        "    'london' : {\n",
        "        'country' : 'england',\n",
        "        'people' : '9 million',\n",
        "    },\n",
        "\n",
        "    'los angeles' : {\n",
        "        'country' : 'USA',\n",
        "        'people' : '4 million',\n",
        "    },\n",
        "\n",
        "    'tbilisi' : {\n",
        "        'country' : 'georgia',\n",
        "        'people' : '1.4 million', \n",
        "    },\n",
        "}\n",
        "\n",
        "print(cities)"
      ],
      "execution_count": 15,
      "outputs": [
        {
          "output_type": "stream",
          "name": "stdout",
          "text": [
            "{'london': {'country': 'england', 'people': '9 million'}, 'los angeles': {'country': 'USA', 'people': '4 million'}, 'tbilisi': {'country': 'georgia', 'people': '1.4 million'}}\n"
          ]
        }
      ]
    },
    {
      "cell_type": "code",
      "metadata": {
        "id": "gQ2t8ALj6jNj"
      },
      "source": [
        ""
      ],
      "execution_count": null,
      "outputs": []
    }
  ]
}
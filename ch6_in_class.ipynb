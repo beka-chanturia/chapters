{
  "nbformat": 4,
  "nbformat_minor": 0,
  "metadata": {
    "colab": {
      "name": "ch_6_in_class.ipynb",
      "provenance": [],
      "collapsed_sections": [],
      "toc_visible": true,
      "authorship_tag": "ABX9TyNaQoKEQ7MVGYsaz4ed7I4R",
      "include_colab_link": true
    },
    "kernelspec": {
      "display_name": "Python 3",
      "name": "python3"
    },
    "language_info": {
      "name": "python"
    }
  },
  "cells": [
    {
      "cell_type": "markdown",
      "metadata": {
        "id": "view-in-github",
        "colab_type": "text"
      },
      "source": [
        "<a href=\"https://colab.research.google.com/github/beka-chanturia/homework/blob/main/ch_6_in_class.ipynb\" target=\"_parent\"><img src=\"https://colab.research.google.com/assets/colab-badge.svg\" alt=\"Open In Colab\"/></a>"
      ]
    },
    {
      "cell_type": "code",
      "metadata": {
        "colab": {
          "base_uri": "https://localhost:8080/"
        },
        "id": "2Y1Fltuny5N7",
        "outputId": "4aab72d9-0e93-4126-f286-bcc54e4cd964"
      },
      "source": [
        "print('hello world')"
      ],
      "execution_count": null,
      "outputs": [
        {
          "name": "stdout",
          "output_type": "stream",
          "text": [
            "hello world\n"
          ]
        }
      ]
    },
    {
      "cell_type": "code",
      "metadata": {
        "id": "OE-LNRk5y-Tp"
      },
      "source": [
        "alien_0 = {'color': 'green' , 'points': 5}\n"
      ],
      "execution_count": null,
      "outputs": []
    },
    {
      "cell_type": "code",
      "metadata": {
        "colab": {
          "base_uri": "https://localhost:8080/"
        },
        "id": "4Ej78qzbCFNV",
        "outputId": "667f1a48-a0e1-4ee9-93be-800c33279307"
      },
      "source": [
        "alien_0\n"
      ],
      "execution_count": null,
      "outputs": [
        {
          "data": {
            "text/plain": [
              "{'color': 'green', 'points': 5}"
            ]
          },
          "execution_count": 16,
          "metadata": {},
          "output_type": "execute_result"
        }
      ]
    },
    {
      "cell_type": "markdown",
      "metadata": {
        "id": "X9KJw1xpNwoV"
      },
      "source": [
        "getting the value associated with a key"
      ]
    },
    {
      "cell_type": "code",
      "metadata": {
        "colab": {
          "base_uri": "https://localhost:8080/"
        },
        "id": "jZ1u0ThxCpT9",
        "outputId": "2a2bf8e9-30fa-45d8-8d69-7592140916e6"
      },
      "source": [
        "alien_0 = {'color': 'green' , 'points': 5}\n",
        "print(alien_0['color'])\n",
        "print(alien_0['points'])\n"
      ],
      "execution_count": null,
      "outputs": [
        {
          "name": "stdout",
          "output_type": "stream",
          "text": [
            "green\n",
            "5\n"
          ]
        }
      ]
    },
    {
      "cell_type": "code",
      "metadata": {
        "colab": {
          "base_uri": "https://localhost:8080/"
        },
        "id": "AfFJ3m1aDgOJ",
        "outputId": "0bee6d9e-5be1-4b7f-91da-8dff43ddc5d2"
      },
      "source": [
        "alien_0 = {'color': 'green' , 'points': 5}\n",
        "\n",
        "new_points = alien_0['points']\n",
        "print('you just earned ' + str(new_points) + ' points! ')"
      ],
      "execution_count": null,
      "outputs": [
        {
          "name": "stdout",
          "output_type": "stream",
          "text": [
            "you just earned 5 points! \n"
          ]
        }
      ]
    },
    {
      "cell_type": "markdown",
      "metadata": {
        "id": "sWtRiWvziW7H"
      },
      "source": [
        "getting the value with get"
      ]
    },
    {
      "cell_type": "code",
      "metadata": {
        "colab": {
          "base_uri": "https://localhost:8080/"
        },
        "id": "ue7zE4npYKNL",
        "outputId": "5107a98c-fac9-4f37-f44a-2dfc60952483"
      },
      "source": [
        "alien_0 = {'color' : 'green'}\n",
        "alien_color = alien_0.get('color')\n",
        "alien_points = alien_0.get('points' , 10)\n",
        "alien_points"
      ],
      "execution_count": null,
      "outputs": [
        {
          "data": {
            "text/plain": [
              "10"
            ]
          },
          "execution_count": 12,
          "metadata": {},
          "output_type": "execute_result"
        }
      ]
    },
    {
      "cell_type": "markdown",
      "metadata": {
        "id": "YmMYwblAkQGQ"
      },
      "source": [
        "adding a new key-value pair"
      ]
    },
    {
      "cell_type": "code",
      "metadata": {
        "colab": {
          "base_uri": "https://localhost:8080/"
        },
        "id": "oWfcUcq3ix39",
        "outputId": "7119f4f7-246d-4d2b-b920-c89f164c2009"
      },
      "source": [
        "alien_0 = {'color': 'green' , 'points': 5}\n",
        "print(alien_0)\n",
        "\n",
        "alien_0['x'] = 0\n",
        "alien_0['y'] = 25\n",
        "alien_0"
      ],
      "execution_count": null,
      "outputs": [
        {
          "name": "stdout",
          "output_type": "stream",
          "text": [
            "{'color': 'green', 'points': 5}\n"
          ]
        },
        {
          "data": {
            "text/plain": [
              "{'color': 'green', 'points': 5, 'x': 0, 'y': 25}"
            ]
          },
          "execution_count": 15,
          "metadata": {},
          "output_type": "execute_result"
        }
      ]
    },
    {
      "cell_type": "markdown",
      "metadata": {
        "id": "PWunTWCC1xvL"
      },
      "source": [
        "adding to an empty dictionary"
      ]
    },
    {
      "cell_type": "code",
      "metadata": {
        "colab": {
          "base_uri": "https://localhost:8080/"
        },
        "id": "fqqkRSLrkj7n",
        "outputId": "695456e2-8220-498f-aeb1-1c75e6e26c03"
      },
      "source": [
        "alien_0 = {}\n",
        "alien_0['color'] = 'green'\n",
        "alien_0['points'] = 5\n",
        "alien_0"
      ],
      "execution_count": null,
      "outputs": [
        {
          "data": {
            "text/plain": [
              "{'color': 'green', 'points': 5}"
            ]
          },
          "execution_count": 19,
          "metadata": {},
          "output_type": "execute_result"
        }
      ]
    },
    {
      "cell_type": "code",
      "metadata": {
        "colab": {
          "base_uri": "https://localhost:8080/"
        },
        "id": "qWO9Q0O_1_nQ",
        "outputId": "8f6e120d-a109-4427-e255-62b9f6800c86"
      },
      "source": [
        "alien_0 = {'color': 'green' , 'points': 5}\n",
        "print(alien_0)\n",
        "\n",
        "alien_0['color'] = 'yello'\n",
        "alien_0['points'] = 10\n",
        "\n",
        "alien_0"
      ],
      "execution_count": null,
      "outputs": [
        {
          "name": "stdout",
          "output_type": "stream",
          "text": [
            "{'color': 'green', 'points': 5}\n"
          ]
        },
        {
          "data": {
            "text/plain": [
              "{'color': 'yello', 'points': 10}"
            ]
          },
          "execution_count": 28,
          "metadata": {},
          "output_type": "execute_result"
        }
      ]
    },
    {
      "cell_type": "markdown",
      "metadata": {
        "id": "WzouFxNG5znV"
      },
      "source": [
        "deleting a key-value pair"
      ]
    },
    {
      "cell_type": "code",
      "metadata": {
        "colab": {
          "base_uri": "https://localhost:8080/"
        },
        "id": "RYYf6TGe4650",
        "outputId": "5d871b86-bcb7-41ba-833d-31c00132c92f"
      },
      "source": [
        "alien_0 = {'color': 'green' , 'points': 5}\n",
        "print(alien_0)\n",
        "\n",
        "del alien_0['points']\n",
        "print(alien_0)"
      ],
      "execution_count": null,
      "outputs": [
        {
          "name": "stdout",
          "output_type": "stream",
          "text": [
            "{'color': 'green', 'points': 5}\n",
            "{'color': 'green'}\n"
          ]
        }
      ]
    },
    {
      "cell_type": "markdown",
      "metadata": {
        "id": "GiXkwuTF6fo2"
      },
      "source": [
        "loopin through all key-value pairs"
      ]
    },
    {
      "cell_type": "code",
      "metadata": {
        "colab": {
          "base_uri": "https://localhost:8080/"
        },
        "id": "r4DVw1i56NSZ",
        "outputId": "34665cca-4cf9-4d01-e926-1857a86194cb"
      },
      "source": [
        "fav_languages = {'jen' : 'python' , 'sarah' : 'c' , 'edward' : 'ruby' , 'phil' : 'python'}\n",
        "\n",
        "for name, languages in fav_languages.items():\n",
        "  print(name + ' : ' + languages)\n",
        "\n",
        "# თუ გვინდა რომ აუთფუთი მოგვცეს ქისიც და ველიუსიც მაშინ უნდა ჩავწეროთ ბოლოში აითემსი()"
      ],
      "execution_count": null,
      "outputs": [
        {
          "name": "stdout",
          "output_type": "stream",
          "text": [
            "jen : python\n",
            "sarah : c\n",
            "edward : ruby\n",
            "phil : python\n"
          ]
        }
      ]
    },
    {
      "cell_type": "markdown",
      "metadata": {
        "id": "iwD8Hl3ieOnE"
      },
      "source": [
        "looping through all key"
      ]
    },
    {
      "cell_type": "code",
      "metadata": {
        "colab": {
          "base_uri": "https://localhost:8080/"
        },
        "id": "2Z-lOJnG6wiT",
        "outputId": "11edad41-dd82-4786-8f09-7973c11a5094"
      },
      "source": [
        "fav_languages = {'jen' : 'python' , 'sarah' : 'c' , 'edward' : 'ruby' , 'phil' : 'python'}\n",
        "\n",
        "for name in fav_languages.keys():\n",
        "  print(name)\n",
        "\n",
        "# თუ გვინდა რომ აუთფუთი მოგვცეს მხოლოდ ქი ანუ ამ შემთხვევაში ნეიმი მაშინ ვწერთ ქი()"
      ],
      "execution_count": null,
      "outputs": [
        {
          "name": "stdout",
          "output_type": "stream",
          "text": [
            "jen\n",
            "sarah\n",
            "edward\n",
            "phil\n"
          ]
        }
      ]
    },
    {
      "cell_type": "markdown",
      "metadata": {
        "id": "EDrkMcWofe0r"
      },
      "source": [
        "looping through all the values"
      ]
    },
    {
      "cell_type": "code",
      "metadata": {
        "colab": {
          "base_uri": "https://localhost:8080/"
        },
        "id": "5kJEOulXeaam",
        "outputId": "3b439700-a5a8-4f75-e99e-59ec5e908d0a"
      },
      "source": [
        "fav_languages = {'jen' : 'python' , 'sarah' : 'c' , 'edward' : 'ruby' , 'phil' : 'python'}\n",
        "\n",
        "for language in fav_languages.values():\n",
        "  print(language)\n",
        "\n",
        "# თუ გვინდა რომ აუთფუთი მოგვცეს მხოლოდ ველიუები მაშინ ვწერთ ველიუ()"
      ],
      "execution_count": null,
      "outputs": [
        {
          "name": "stdout",
          "output_type": "stream",
          "text": [
            "python\n",
            "c\n",
            "ruby\n",
            "python\n"
          ]
        }
      ]
    },
    {
      "cell_type": "markdown",
      "metadata": {
        "id": "pw_Zsa4dgdSa"
      },
      "source": [
        "looping through all the keys in order"
      ]
    },
    {
      "cell_type": "code",
      "metadata": {
        "colab": {
          "base_uri": "https://localhost:8080/"
        },
        "id": "KPm1SSrCf2Tr",
        "outputId": "2f83806d-fdbb-4c73-f5cd-4f782b3e139c"
      },
      "source": [
        "for name in sorted(fav_languages.keys()):\n",
        "  print(name + ' : ' + language)\n",
        "\n",
        "# დაასორტირა ინგლისურიდან და დააწყო თანმიმდევრობით სახელები"
      ],
      "execution_count": null,
      "outputs": [
        {
          "name": "stdout",
          "output_type": "stream",
          "text": [
            "edward : python\n",
            "jen : python\n",
            "phil : python\n",
            "sarah : python\n"
          ]
        }
      ]
    },
    {
      "cell_type": "markdown",
      "metadata": {
        "id": "oIFc2BLCiHA7"
      },
      "source": [
        "finding a dictionary's length"
      ]
    },
    {
      "cell_type": "code",
      "metadata": {
        "colab": {
          "base_uri": "https://localhost:8080/"
        },
        "id": "aAOE4K_ehWpj",
        "outputId": "f8d009e3-fdd5-4a10-8d08-f32ed5f01a14"
      },
      "source": [
        "num_responses = len(fav_languages)\n",
        "num_responses\n",
        "\n",
        "# ლენ არის ფუნქცია რომელიც გვეუბნება რამდენი ცალი ქი ველიუ პეარ გვაქ"
      ],
      "execution_count": null,
      "outputs": [
        {
          "data": {
            "text/plain": [
              "4"
            ]
          },
          "execution_count": 18,
          "metadata": {},
          "output_type": "execute_result"
        }
      ]
    },
    {
      "cell_type": "markdown",
      "metadata": {
        "id": "xX_vIRlcjgrM"
      },
      "source": [
        "Nesting"
      ]
    },
    {
      "cell_type": "code",
      "metadata": {
        "colab": {
          "base_uri": "https://localhost:8080/"
        },
        "id": "K9-xvoD7iWes",
        "outputId": "cc05b289-fe66-4557-c563-268fd0bc48b1"
      },
      "source": [
        "users = []\n",
        "\n",
        "new_user = {\n",
        "    'last_name' : 'fermi',\n",
        "    'first_name' : 'enrico',\n",
        "    'username' : 'efermi',\n",
        "}\n",
        "\n",
        "users.append(new_user)\n",
        "#print(new_user)\n",
        "\n",
        "new_user = {\n",
        "    'last_name' : 'cure',\n",
        "    'first_name' : 'marie',\n",
        "    'username' : 'mcurie',\n",
        "}\n",
        "\n",
        "users.append(new_user)\n",
        "#print(new_user)\n",
        "\n",
        "for user_dict in users:\n",
        "  for k , v in user_dict.items():\n",
        "    print(k + ' : ' + v)\n",
        "  print('\\n')"
      ],
      "execution_count": null,
      "outputs": [
        {
          "output_type": "stream",
          "name": "stdout",
          "text": [
            "last_name : fermi\n",
            "first_name : enrico\n",
            "username : efermi\n",
            "\n",
            "\n",
            "last_name : cure\n",
            "first_name : marie\n",
            "username : mcurie\n",
            "\n",
            "\n"
          ]
        }
      ]
    },
    {
      "cell_type": "code",
      "metadata": {
        "colab": {
          "base_uri": "https://localhost:8080/"
        },
        "id": "pl1FJvJqLuLV",
        "outputId": "c30b798a-8454-4e1c-d72d-1fce667812e4"
      },
      "source": [
        "users = [\n",
        "         {\n",
        "          'last' : 'ferni',\n",
        "          'first': 'enrico',\n",
        "          'username' : 'eferni',\n",
        "         },\n",
        "\n",
        "         {\n",
        "          'last' : 'curie',\n",
        "          'first' : 'mari',\n",
        "          'username' : 'mcurie',\n",
        "         },\n",
        "]\n",
        "\n",
        "for user_dict in users:\n",
        "  for k , v in user_dict.items():\n",
        "    print(k + ' : ' + v)\n",
        "  print('\\n')"
      ],
      "execution_count": null,
      "outputs": [
        {
          "output_type": "stream",
          "name": "stdout",
          "text": [
            "last : ferni\n",
            "first : enrico\n",
            "username : eferni\n",
            "\n",
            "\n",
            "last : curie\n",
            "first : mari\n",
            "username : mcurie\n",
            "\n",
            "\n"
          ]
        }
      ]
    },
    {
      "cell_type": "markdown",
      "metadata": {
        "id": "--IyF2Gxg12s"
      },
      "source": [
        "strong lists in a dictionary"
      ]
    },
    {
      "cell_type": "code",
      "metadata": {
        "colab": {
          "base_uri": "https://localhost:8080/"
        },
        "id": "3DNF-k_ndwXw",
        "outputId": "1e78a5f8-ee8c-401d-ce13-61ed035b0b49"
      },
      "source": [
        "fav_languages = {\n",
        "    'jen' : ['python' , 'ruby'],\n",
        "    'sarah' : ['c'],\n",
        "    'eward' : ['ruby' , 'go'],\n",
        "    'phill' : ['python' , 'haskell'],\n",
        "}\n",
        "\n",
        "for name , langs in fav_languages.items():\n",
        "  print(name + ' : ')\n",
        "  for lang in langs:\n",
        "    print(' - ' + lang)"
      ],
      "execution_count": null,
      "outputs": [
        {
          "output_type": "stream",
          "name": "stdout",
          "text": [
            "jen : \n",
            " - python\n",
            " - ruby\n",
            "sarah : \n",
            " - c\n",
            "eward : \n",
            " - ruby\n",
            " - go\n",
            "phill : \n",
            " - python\n",
            " - haskell\n"
          ]
        }
      ]
    },
    {
      "cell_type": "code",
      "metadata": {
        "id": "W_1tFoGZilw5"
      },
      "source": [
        ""
      ],
      "execution_count": null,
      "outputs": []
    }
  ]
}

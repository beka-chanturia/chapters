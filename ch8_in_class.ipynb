{
  "nbformat": 4,
  "nbformat_minor": 0,
  "metadata": {
    "colab": {
      "name": "ch8_in_class.ipynb",
      "provenance": [],
      "authorship_tag": "ABX9TyPwsn8W9JuZ0Pzbanq6QCYG",
      "include_colab_link": true
    },
    "kernelspec": {
      "name": "python3",
      "display_name": "Python 3"
    },
    "language_info": {
      "name": "python"
    }
  },
  "cells": [
    {
      "cell_type": "markdown",
      "metadata": {
        "id": "view-in-github",
        "colab_type": "text"
      },
      "source": [
        "<a href=\"https://colab.research.google.com/github/beka-chanturia/homework/blob/main/ch8_in_class.ipynb\" target=\"_parent\"><img src=\"https://colab.research.google.com/assets/colab-badge.svg\" alt=\"Open In Colab\"/></a>"
      ]
    },
    {
      "cell_type": "markdown",
      "metadata": {
        "id": "C7NxQjv-Iyu0"
      },
      "source": [
        "making a function"
      ]
    },
    {
      "cell_type": "code",
      "metadata": {
        "colab": {
          "base_uri": "https://localhost:8080/"
        },
        "id": "dj-7ju_tGnsn",
        "outputId": "5d132386-5f07-43a9-a48e-0fdc6e79373d"
      },
      "source": [
        "def greet_user():\n",
        "  \"\"\"display a simple greeting.\"\"\"\n",
        "  print('hello')\n",
        "\n",
        "greet_user()"
      ],
      "execution_count": null,
      "outputs": [
        {
          "output_type": "stream",
          "name": "stdout",
          "text": [
            "hello\n"
          ]
        }
      ]
    },
    {
      "cell_type": "markdown",
      "metadata": {
        "id": "PZ5CO-P6M9cr"
      },
      "source": [
        "passing a single argument"
      ]
    },
    {
      "cell_type": "code",
      "metadata": {
        "colab": {
          "base_uri": "https://localhost:8080/"
        },
        "id": "QA0CTq6zJj-J",
        "outputId": "4e703d00-cf20-45ef-8295-c5291bf6b361"
      },
      "source": [
        "def greet_user(username):\n",
        "  \"\"\"display a simple geeting.\"\"\"\n",
        "  print('hello, ' + username + '!')\n",
        "\n",
        "greet_user('jesse')\n",
        "greet_user('jack')\n",
        "greet_user('brandon')\n",
        "\n",
        "# parametrs ro sheqmni imas argumentic unda sheuqmna tore daranvisas aerorebs anu parametri am shemtxvevashi aris username da argumenti qveda saxelebi"
      ],
      "execution_count": null,
      "outputs": [
        {
          "output_type": "stream",
          "name": "stdout",
          "text": [
            "hello, jesse!\n",
            "hello, jack!\n",
            "hello, brandon!\n"
          ]
        }
      ]
    },
    {
      "cell_type": "markdown",
      "metadata": {
        "id": "wT3AzoG1THXq"
      },
      "source": [
        "**positional and keyword arguments**"
      ]
    },
    {
      "cell_type": "markdown",
      "metadata": {
        "id": "zNjBiur6U7jR"
      },
      "source": [
        "using positional arguments"
      ]
    },
    {
      "cell_type": "code",
      "metadata": {
        "colab": {
          "base_uri": "https://localhost:8080/"
        },
        "id": "o3_dwT1jO0uC",
        "outputId": "f08a85a3-4302-4be3-9e65-44bee6f64798"
      },
      "source": [
        "def describe_pet(animal , name):\n",
        "  \"\"\"display information about a pet\"\"\"\n",
        "  print(\"\\nI have a \" + animal + \".\")\n",
        "  print(\"Its name is \" + name + \"!\")\n",
        "\n",
        "describe_pet('humster' , 'harry')\n",
        "describe_pet('dog' , 'willie')"
      ],
      "execution_count": null,
      "outputs": [
        {
          "output_type": "stream",
          "name": "stdout",
          "text": [
            "\n",
            "I have a humster.\n",
            "Its name is harry!\n",
            "\n",
            "I have a dog.\n",
            "Its name is willie!\n"
          ]
        }
      ]
    },
    {
      "cell_type": "markdown",
      "metadata": {
        "id": "KeIpjjTeVEMy"
      },
      "source": [
        "using keyword arguments"
      ]
    },
    {
      "cell_type": "code",
      "metadata": {
        "colab": {
          "base_uri": "https://localhost:8080/"
        },
        "id": "56UPPbr8UWSm",
        "outputId": "49581364-6093-4c6a-cac4-64231ff6c6d4"
      },
      "source": [
        "def describe_pet(animal , name):\n",
        "  \"\"\"display information a pet.\"\"\"\n",
        "  print(\"\\nI have a \" + animal + \".\")\n",
        "  print(\"Its name is \" + name + \"!\")\n",
        "\n",
        "describe_pet(animal='humster' , name='hurry')\n",
        "describe_pet(animal='dog' , name='willie')"
      ],
      "execution_count": null,
      "outputs": [
        {
          "output_type": "stream",
          "name": "stdout",
          "text": [
            "\n",
            "I have a humster.\n",
            "Its name is hurry!\n",
            "\n",
            "I have a dog.\n",
            "Its name is willie!\n"
          ]
        }
      ]
    },
    {
      "cell_type": "markdown",
      "metadata": {
        "id": "tK98HpygecV_"
      },
      "source": [
        "using a default value"
      ]
    },
    {
      "cell_type": "code",
      "metadata": {
        "colab": {
          "base_uri": "https://localhost:8080/"
        },
        "id": "7_d_LF4HVyZt",
        "outputId": "1e7a7bf9-e101-47a6-94ef-6b52f9eb1394"
      },
      "source": [
        "def describe_pet(name , animal='dog'):\n",
        "  \"\"\"display information about pet.\"\"\"\n",
        "  print(\"\\nI have a \" + animal + \".\")\n",
        "  print(\"Its name is \" + name + \".\")\n",
        "\n",
        "describe_pet('harry' , 'humster')\n",
        "describe_pet('willie')"
      ],
      "execution_count": null,
      "outputs": [
        {
          "output_type": "stream",
          "name": "stdout",
          "text": [
            "\n",
            "I have a humster.\n",
            "Its name is harry.\n",
            "\n",
            "I have a dog.\n",
            "Its name is willie.\n"
          ]
        }
      ]
    },
    {
      "cell_type": "markdown",
      "source": [
        "using none to make an argument optional"
      ],
      "metadata": {
        "id": "3zATjfH8ocT3"
      }
    },
    {
      "cell_type": "code",
      "metadata": {
        "id": "hKn6mYMyfW08",
        "colab": {
          "base_uri": "https://localhost:8080/"
        },
        "outputId": "60a8d923-97a2-4dfa-c3d0-42354fe23272"
      },
      "source": [
        "def describe_pet(animal , name=None):\n",
        "  \"\"\"display information about a pet\"\"\"\n",
        "  print(\"\\nIhave a \" + animal + \".\")\n",
        "  if name:\n",
        "    print(\"its name is \" + name + \".\")\n",
        "\n",
        "describe_pet(\"hamster\" , \"harry\")\n",
        "describe_pet(\"snake\")"
      ],
      "execution_count": null,
      "outputs": [
        {
          "output_type": "stream",
          "name": "stdout",
          "text": [
            "\n",
            "Ihave a hamster.\n",
            "its name is harry.\n",
            "\n",
            "Ihave a snake.\n"
          ]
        }
      ]
    },
    {
      "cell_type": "markdown",
      "source": [
        "**return values**"
      ],
      "metadata": {
        "id": "LLIVZEHfrCdV"
      }
    },
    {
      "cell_type": "markdown",
      "source": [
        "returning a single value"
      ],
      "metadata": {
        "id": "dqxw3nW6rQT4"
      }
    },
    {
      "cell_type": "code",
      "source": [
        "def get_full_name(first , last):\n",
        "  \"\"\"return a neatly formatted full name\"\"\"\n",
        "  full_name = first + ' ' + last\n",
        "  return full_name.title()\n",
        "\n",
        "musican = get_full_name('jimi' , 'hendrix')\n",
        "print(musican)"
      ],
      "metadata": {
        "colab": {
          "base_uri": "https://localhost:8080/"
        },
        "id": "jGvRyvHlp9fi",
        "outputId": "bf47687c-6e6a-4dc8-a92a-6785be75151b"
      },
      "execution_count": null,
      "outputs": [
        {
          "output_type": "stream",
          "name": "stdout",
          "text": [
            "Jimi Hendrix\n"
          ]
        }
      ]
    },
    {
      "cell_type": "markdown",
      "source": [
        "returning a dictionary"
      ],
      "metadata": {
        "id": "xck03cUNARXB"
      }
    },
    {
      "cell_type": "code",
      "source": [
        "def build_person(first , last):\n",
        "  \"\"\"return a dictionary of information\n",
        "  about a person \n",
        "  \"\"\"\n",
        "  person = {'first' : first , 'last' : last}\n",
        "  return person\n",
        "\n",
        "musician = build_person('jimi' , 'hendrix')\n",
        "print(musician)"
      ],
      "metadata": {
        "id": "8BLd2IiAtTy7",
        "colab": {
          "base_uri": "https://localhost:8080/"
        },
        "outputId": "d8d4035b-b878-4185-e4ef-4ee78c9ff28f"
      },
      "execution_count": 3,
      "outputs": [
        {
          "output_type": "stream",
          "name": "stdout",
          "text": [
            "{'first': 'jimi', 'last': 'hendrix'}\n"
          ]
        }
      ]
    },
    {
      "cell_type": "markdown",
      "source": [
        "runing a dictionary with optional values"
      ],
      "metadata": {
        "id": "PLhhI_k8Di9R"
      }
    },
    {
      "cell_type": "code",
      "source": [
        "def build_person(first , last , age=None):\n",
        "  \"\"\"return a dictionary of information\n",
        "  about a person with optional values \"\"\"\n",
        "\n",
        "  person = {\n",
        "      'first' : first,\n",
        "      'last' : last, \n",
        "  }\n",
        "\n",
        "  if age:\n",
        "    person['age'] = age\n",
        "  return person\n",
        "\n",
        "musician = build_person('jimi' , 'hendrix' , 27)\n",
        "print(musician)\n",
        "\n",
        "musician = build_person('janis' , 'joplit')\n",
        "print(musician)"
      ],
      "metadata": {
        "colab": {
          "base_uri": "https://localhost:8080/"
        },
        "id": "6i55lxSbDAVw",
        "outputId": "1dc5fe5a-b930-4986-8fe2-536aef91d867"
      },
      "execution_count": 9,
      "outputs": [
        {
          "output_type": "stream",
          "name": "stdout",
          "text": [
            "{'first': 'jimi', 'last': 'hendrix', 'age': 27}\n",
            "{'first': 'janis', 'last': 'joplit'}\n"
          ]
        }
      ]
    },
    {
      "cell_type": "markdown",
      "source": [
        "passing a list as an argument"
      ],
      "metadata": {
        "id": "9u7v4RXcKp0O"
      }
    },
    {
      "cell_type": "code",
      "source": [
        "def greet_user(names):\n",
        "  \"\"\"print a sipmle greeting to everyone\"\"\"\n",
        "  for name in names:\n",
        "    msg = \"hello, \" + name + \" !\"\n",
        "    print(msg)\n",
        "\n",
        "usernames = ['hanna' , 'ty' , 'margot']\n",
        "greet_user(usernames)\n",
        "\n",
        "#არ არის აუცილებელი პარამერის სახელი და არგუმენტის სახელი ერთმანეთს ემთხვეოდეს ამ შემთხვევაში ნეიმსი არის პარამეტრი და იუზერნეიმსი პარამეტრი"
      ],
      "metadata": {
        "colab": {
          "base_uri": "https://localhost:8080/"
        },
        "id": "iGotjGHFE-e-",
        "outputId": "0fcac570-b2b6-40f6-99e6-072fb8a9797b"
      },
      "execution_count": 14,
      "outputs": [
        {
          "output_type": "stream",
          "name": "stdout",
          "text": [
            "hello, hanna !\n",
            "hello, ty !\n",
            "hello, margot !\n"
          ]
        }
      ]
    },
    {
      "cell_type": "markdown",
      "source": [
        "collecting an arbitrary number of arguments"
      ],
      "metadata": {
        "id": "vqd2TRALWy3g"
      }
    },
    {
      "cell_type": "code",
      "source": [
        "def make_pizza(size , *toppings):\n",
        "  \"\"\"make a pizza\"\"\"\n",
        "  print('\\nmakeing a ' + size + ' pizza')\n",
        "  print('topping')\n",
        "  for topping in toppings:\n",
        "    print('- ' + topping)\n",
        "\n",
        "make_pizza('small' , 'pepperoni')\n",
        "make_pizza('medium' , 'mushroom' , 'peppers' , 'onions' , 'extra cheese')\n",
        "make_pizza('large' , 'beacon' , 'pineapple')"
      ],
      "metadata": {
        "colab": {
          "base_uri": "https://localhost:8080/"
        },
        "id": "QQ0bPfoHLS3t",
        "outputId": "466d8a3f-4a37-4970-b422-ed72f88b7223"
      },
      "execution_count": 20,
      "outputs": [
        {
          "output_type": "stream",
          "name": "stdout",
          "text": [
            "\n",
            "makeing a small pizza\n",
            "topping\n",
            "- pepperoni\n",
            "\n",
            "makeing a medium pizza\n",
            "topping\n",
            "- mushroom\n",
            "- peppers\n",
            "- onions\n",
            "- extra cheese\n",
            "\n",
            "makeing a large pizza\n",
            "topping\n",
            "- beacon\n",
            "- pineapple\n"
          ]
        }
      ]
    },
    {
      "cell_type": "markdown",
      "source": [
        "collecting an arbitrary number of keyword arguments"
      ],
      "metadata": {
        "id": "l842k5T4dNQH"
      }
    },
    {
      "cell_type": "code",
      "source": [
        "def build_profile(first , last , **user_info):\n",
        "  \"\"\"build a user's profile dictionary\"\"\"\n",
        "  profile = {'first' : first , 'last' : last}\n",
        "\n",
        "  for key, value in user_info.items():\n",
        "    profile[key] = value\n",
        "\n",
        "  return profile\n",
        "    \n",
        "    \n",
        "user_0 = build_profile(\n",
        "    'albert',\n",
        "    'einstein',\n",
        "    location = 'princeton'\n",
        ")\n",
        "\n",
        "user_1 = build_profile(\n",
        "    'marie',\n",
        "    'curie',\n",
        "    location = 'paris',\n",
        "    field = 'chemistry'\n",
        ")\n",
        "\n",
        "print(user_0)\n",
        "print(user_1)"
      ],
      "metadata": {
        "colab": {
          "base_uri": "https://localhost:8080/"
        },
        "id": "8LBN366Jca1G",
        "outputId": "c30bccf1-f24e-4221-ba4d-264d1e92cec1"
      },
      "execution_count": 26,
      "outputs": [
        {
          "output_type": "stream",
          "name": "stdout",
          "text": [
            "{'first': 'albert', 'last': 'einstein', 'location': 'princeton'}\n",
            "{'first': 'marie', 'last': 'curie', 'location': 'paris', 'field': 'chemistry'}\n"
          ]
        }
      ]
    },
    {
      "cell_type": "code",
      "source": [
        ""
      ],
      "metadata": {
        "id": "NMNU_yHPfXgs"
      },
      "execution_count": null,
      "outputs": []
    }
  ]
}